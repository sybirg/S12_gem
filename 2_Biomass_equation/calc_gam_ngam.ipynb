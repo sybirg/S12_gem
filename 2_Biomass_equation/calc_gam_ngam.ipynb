{
 "cells": [
  {
   "cell_type": "markdown",
   "id": "c720a6c3",
   "metadata": {},
   "source": [
    "## Calculate NGAM/GAM in metabolic model"
   ]
  },
  {
   "cell_type": "code",
   "execution_count": null,
   "id": "68c89d0c",
   "metadata": {},
   "outputs": [],
   "source": [
    "import cobra\n",
    "\n",
    "# open the metabolic model\n",
    "s12 = cobra.io.read_sbml_model(os.getcwd()+'\\\\input\\\\iSH1474.xml')\n",
    "model = s12.copy()\n",
    "\n",
    "#Call biomass equation\n",
    "biomass_eq = model.reactions.get_by_id('BIOMASS_S12_WT')"
   ]
  },
  {
   "cell_type": "code",
   "execution_count": null,
   "id": "bd0dca66",
   "metadata": {},
   "outputs": [
    {
     "name": "stdout",
     "output_type": "stream",
     "text": [
      "NGAM: 1.67\n"
     ]
    }
   ],
   "source": [
    "# NGAM calculation\n",
    "\n",
    "# Following values were calculated using experimental values \n",
    "# Details are in the \"Calculation of GAM and NGAM\" section in the reference paper \n",
    "# (Han et al. Genome-scale metabolic network model and phenome of solvent-tolerant Pseudomonas putida S12)\n",
    "# q= growth_rate/Y_G + maintenance coefficient(mc)\n",
    "\n",
    "inverse_Y_G = 10  # 1/Y_G\n",
    "mc = 0.077\n",
    "\n",
    "import numpy as np\n",
    "\n",
    "gam_am = {'h2o_c','atp_c','adp_c','h_c','pi_c'}\n",
    "\n",
    "for m in gam_am:\n",
    "    globals()[m] = model.metabolites.get_by_id(m)\n",
    "    globals()[m+'_coef'] = biomass_eq.get_coefficient(globals()[m])\n",
    "\n",
    "with model:\n",
    "    model.reactions.get_by_id('ATPM').bounds = (-99999,99999)\n",
    "    biomass_eq.add_metabolites({'h2o_c':-h2o_c_coef,'atp_c':-atp_c_coef,'adp_c':-adp_c_coef,'h_c':-h_c_coef,'pi_c':-pi_c_coef})\n",
    "\n",
    "    model.objective = 'ATPM'\n",
    "    model.reactions.get_by_id(\"EX_glc__D_e\").lower_bound = -mc\n",
    "    biomass_eq.lower_bound = 0\n",
    "    ngam = round(model.optimize().objective_value,2)\n",
    "        \n",
    "print('NGAM:',ngam)"
   ]
  },
  {
   "cell_type": "code",
   "execution_count": 21,
   "id": "4b81b467",
   "metadata": {},
   "outputs": [],
   "source": [
    "def nearest_value(simulated_data, inverse_Y_G):\n",
    "    \n",
    "    tmp = 0\n",
    "    gam = 0\n",
    "    \n",
    "    for i in simulated_data.items():\n",
    "        if abs(inverse_Y_G-tmp) > abs(inverse_Y_G-i[1]):\n",
    "            gam = i[0]\n",
    "            tmp = i[1]\n",
    "    \n",
    "    return gam"
   ]
  },
  {
   "cell_type": "code",
   "execution_count": 98,
   "id": "3705128e",
   "metadata": {
    "scrolled": true
   },
   "outputs": [
    {
     "name": "stdout",
     "output_type": "stream",
     "text": [
      "42.3 9.999639172413968\n",
      "42.309999999999995 10.000098942528835\n",
      "42.31999999999999 10.0005587126436\n",
      "42.32999999999999 10.001018482758669\n",
      "42.33999999999999 10.001478252873547\n",
      "42.34999999999999 10.001938022988593\n",
      "GAM: 42.31\n"
     ]
    }
   ],
   "source": [
    "# GAM calculation\n",
    "\n",
    "# Use calibration values involved in the generation of other biomass compositions, such as dna, rna, etc\n",
    "atp_rna = 0.17064788767095312\n",
    "pi_inorg = 0.0035566392840948907\n",
    "h2o_aa = 5.3105\n",
    "\n",
    "model.reactions.get_by_id('ATPM').bounds = (ngam,ngam) # fix the ngam\n",
    "\n",
    "gam_am = {'h2o_c','atp_c','adp_c','h_c','pi_c'}\n",
    "\n",
    "glucose = [1,2,3,4,5] # mmol\n",
    "\n",
    "simulated_data = {}\n",
    "\n",
    "for coef in (np.arange(42.30,42.35,0.01)): # possible GAM values ('adp_c') \n",
    "    objective_values = []\n",
    "    \n",
    "    with model:\n",
    "        for glc in glucose:\n",
    "            model.reactions.get_by_id(\"EX_glc__D_e\").lower_bound = -glc\n",
    "            \n",
    "            for m in gam_am:\n",
    "                globals()[m+'_coef'] = biomass_eq.get_coefficient(globals()[m])\n",
    "            \n",
    "            #Generate biomass equation without GAM and GAM-dependent components \n",
    "            biomass_eq.add_metabolites({'h2o_c':-h2o_c_coef,'atp_c':-atp_c_coef,'adp_c':-adp_c_coef,'h_c':-h_c_coef,'pi_c':-pi_c_coef})\n",
    "            \n",
    "            # Generate biomass equation with GAM and GAM-dependent components by changing GAM value\n",
    "            biomass_eq.add_metabolites({'h2o_c':round(-(coef-h2o_aa),6),'atp_c':round(-(coef+atp_rna),6),'adp_c':round(coef,6),'h_c':round(coef,6),'pi_c':round(coef-pi_inorg,6)})\n",
    "\n",
    "            objective_values.append(model.optimize().objective_value)\n",
    "            \n",
    "        slope, intercept = np.polyfit(objective_values, glucose,1)\n",
    "        simulated_data[coef]=slope\n",
    "        print(coef, slope)\n",
    "\n",
    "        \n",
    "# get the value which most nearest with inverse_Y_G\n",
    "\n",
    "gam = round(nearest_value(simulated_data, inverse_Y_G),2)\n",
    "print('GAM:',gam)"
   ]
  },
  {
   "cell_type": "code",
   "execution_count": 6,
   "id": "0f56bf0d",
   "metadata": {
    "scrolled": true
   },
   "outputs": [
    {
     "name": "stdout",
     "output_type": "stream",
     "text": [
      "iSH1474 growth simulation values\n",
      "\n",
      "0.09232092563387587\n",
      "0.19231993621837692\n",
      "0.29231894680287884\n",
      "0.3923179573873792\n",
      "0.49231696797188174\n",
      "0.5923159785563845\n",
      "0.6923149891408871\n",
      "0.7923139997253866\n",
      "0.8923130103098892\n",
      "0.992312020894392\n",
      "1.007462398011373\n"
     ]
    }
   ],
   "source": [
    "# For generation of Figure S1 in the reference paper\n",
    "\n",
    "glucose = [1,2,3,4,5,6,7,8,9,10,11]\n",
    "\n",
    "print('iSH1474 growth simulation values\\n')\n",
    "\n",
    "for glc in glucose:\n",
    "    with model:\n",
    "        model.reactions.get_by_id(\"EX_glc__D_e\").lower_bound = -glc\n",
    "        print(model.slim_optimize())"
   ]
  },
  {
   "cell_type": "code",
   "execution_count": null,
   "id": "590a2da4",
   "metadata": {},
   "outputs": [],
   "source": []
  }
 ],
 "metadata": {
  "kernelspec": {
   "display_name": "Python 3 (ipykernel)",
   "language": "python",
   "name": "python3"
  },
  "language_info": {
   "codemirror_mode": {
    "name": "ipython",
    "version": 3
   },
   "file_extension": ".py",
   "mimetype": "text/x-python",
   "name": "python",
   "nbconvert_exporter": "python",
   "pygments_lexer": "ipython3",
   "version": "3.10.9"
  }
 },
 "nbformat": 4,
 "nbformat_minor": 5
}
