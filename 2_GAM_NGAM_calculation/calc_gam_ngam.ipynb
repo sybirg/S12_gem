{
 "cells": [
  {
   "cell_type": "markdown",
   "id": "c720a6c3",
   "metadata": {},
   "source": [
    "## Calculate NGAM/GAM in metabolic model"
   ]
  },
  {
   "cell_type": "code",
   "execution_count": 1,
   "id": "82dee0b8",
   "metadata": {},
   "outputs": [],
   "source": [
    "import cobra\n",
    "\n",
    "# open the metabolic model\n",
    "s12 = cobra.io.read_sbml_model(os.getcwd()+'\\\\input\\\\iSH1474.xml')\n",
    "model = s12.copy()\n",
    "\n",
    "#Call biomass equation\n",
    "biomass_eq = model.reactions.get_by_id('BIOMASS_S12_WT')"
   ]
  },
  {
   "cell_type": "code",
   "execution_count": 2,
   "id": "bd0dca66",
   "metadata": {},
   "outputs": [
    {
     "name": "stdout",
     "output_type": "stream",
     "text": [
      "NGAM: 1.67\n"
     ]
    }
   ],
   "source": [
    "# NGAM calculation\n",
    "\n",
    "# Following values were calculated using experimental values \n",
    "# Details are in the \"Calculation of GAM and NGAM\" section in the reference paper \n",
    "# (Han et al. Genome-scale metabolic network model and phenome of solvent-tolerant Pseudomonas putida S12)\n",
    "# q= growth_rate/Y_G + maintenance coefficient(mc)\n",
    "\n",
    "inverse_Y_G = 10  # 1/Y_G\n",
    "mc = 0.077\n",
    "\n",
    "import numpy as np\n",
    "\n",
    "gam_am = {'h2o_c','atp_c','adp_c','h_c','pi_c'}\n",
    "\n",
    "for m in gam_am:\n",
    "    globals()[m] = model.metabolites.get_by_id(m)\n",
    "    globals()[m+'_coef'] = biomass_eq.get_coefficient(globals()[m])\n",
    "\n",
    "with model:\n",
    "    model.reactions.get_by_id('ATPM').bounds = (-99999,99999)\n",
    "    \n",
    "    # Generate biomass equation without GAM and GAM-dependent components \n",
    "    biomass_eq.add_metabolites({'h2o_c':-h2o_c_coef,'atp_c':-atp_c_coef,'adp_c':-adp_c_coef,'h_c':-h_c_coef,'pi_c':-pi_c_coef})\n",
    "    \n",
    "    # set the NGAM as objective function\n",
    "    model.objective = 'ATPM'\n",
    "    model.reactions.get_by_id(\"EX_glc__D_e\").lower_bound = -mc # glucose uptake rate = 0.077\n",
    "    biomass_eq.lower_bound = 0\n",
    "    ngam = round(model.optimize().objective_value,2)\n",
    "        \n",
    "print('NGAM:',ngam)"
   ]
  },
  {
   "cell_type": "code",
   "execution_count": 3,
   "id": "4b81b467",
   "metadata": {},
   "outputs": [],
   "source": [
    "def nearest_value(simulated_data, inverse_Y_G):\n",
    "    \n",
    "    tmp = 0\n",
    "    gam = 0\n",
    "    \n",
    "    for i in simulated_data.items():\n",
    "        if abs(inverse_Y_G-tmp) > abs(inverse_Y_G-i[1]):\n",
    "            gam = i[0]\n",
    "            tmp = i[1]\n",
    "    \n",
    "    return gam"
   ]
  },
  {
   "cell_type": "code",
   "execution_count": 4,
   "id": "3705128e",
   "metadata": {
    "scrolled": true
   },
   "outputs": [
    {
     "name": "stdout",
     "output_type": "stream",
     "text": [
      "42.3 9.999639172413893\n",
      "42.309999999999995 10.0000989425288\n",
      "42.31999999999999 10.000558712643478\n",
      "42.32999999999999 10.00101848275865\n",
      "42.33999999999999 10.001478252873602\n",
      "42.34999999999999 10.001938022988606\n",
      "GAM: 42.31\n"
     ]
    }
   ],
   "source": [
    "# GAM calculation\n",
    "\n",
    "# Set calibration values involved in the generation of other biomass compositions, such as dna, rna, etc\n",
    "atp_rna = 0.17064788767095312\n",
    "pi_inorg = 0.0035566392840948907\n",
    "h2o_aa = 5.3105\n",
    "\n",
    "model.reactions.get_by_id('ATPM').bounds = (ngam,ngam) # fix the ngam\n",
    "\n",
    "gam_am = {'h2o_c','atp_c','adp_c','h_c','pi_c'}\n",
    "\n",
    "glucose = [1,2,3,4,5] # mmol\n",
    "\n",
    "simulated_data = {}\n",
    "\n",
    "for coef in (np.arange(42.30,42.35,0.01)): # possible GAM values ('adp_c') \n",
    "    objective_values = []\n",
    "    \n",
    "    with model:\n",
    "        for glc in glucose:\n",
    "            model.reactions.get_by_id(\"EX_glc__D_e\").lower_bound = -glc\n",
    "            \n",
    "            for m in gam_am:\n",
    "                globals()[m+'_coef'] = biomass_eq.get_coefficient(globals()[m])\n",
    "            \n",
    "            # Generate biomass equation without GAM and GAM-dependent components \n",
    "            biomass_eq.add_metabolites({'h2o_c':-h2o_c_coef,'atp_c':-atp_c_coef,'adp_c':-adp_c_coef,'h_c':-h_c_coef,'pi_c':-pi_c_coef})\n",
    "            \n",
    "            # Generate biomass equation with GAM and GAM-dependent components by changing GAM value\n",
    "            biomass_eq.add_metabolites({'h2o_c':round(-(coef-h2o_aa),6),'atp_c':round(-(coef+atp_rna),6),'adp_c':round(coef,6),'h_c':round(coef,6),'pi_c':round(coef-pi_inorg,6)})\n",
    "\n",
    "            objective_values.append(model.optimize().objective_value)\n",
    "            \n",
    "        slope, intercept = np.polyfit(objective_values, glucose,1)\n",
    "        simulated_data[coef]=slope\n",
    "        print(coef, slope)\n",
    "\n",
    "        \n",
    "# get the value which most nearest with inverse_Y_G\n",
    "\n",
    "gam = round(nearest_value(simulated_data, inverse_Y_G),2)\n",
    "print('GAM:',gam)"
   ]
  },
  {
   "cell_type": "code",
   "execution_count": 6,
   "id": "0f56bf0d",
   "metadata": {
    "scrolled": false
   },
   "outputs": [
    {
     "name": "stdout",
     "output_type": "stream",
     "text": [
      "iSH1474 growth simulation values\n",
      "\n"
     ]
    },
    {
     "data": {
      "text/html": [
       "<div>\n",
       "<style scoped>\n",
       "    .dataframe tbody tr th:only-of-type {\n",
       "        vertical-align: middle;\n",
       "    }\n",
       "\n",
       "    .dataframe tbody tr th {\n",
       "        vertical-align: top;\n",
       "    }\n",
       "\n",
       "    .dataframe thead th {\n",
       "        text-align: right;\n",
       "    }\n",
       "</style>\n",
       "<table border=\"1\" class=\"dataframe\">\n",
       "  <thead>\n",
       "    <tr style=\"text-align: right;\">\n",
       "      <th></th>\n",
       "      <th>glucose uptake rate (mmol/gDCW/h)</th>\n",
       "      <th>iSH1474 growth simulation</th>\n",
       "    </tr>\n",
       "  </thead>\n",
       "  <tbody>\n",
       "    <tr>\n",
       "      <th>0</th>\n",
       "      <td>1</td>\n",
       "      <td>0.092321</td>\n",
       "    </tr>\n",
       "    <tr>\n",
       "      <th>1</th>\n",
       "      <td>2</td>\n",
       "      <td>0.192320</td>\n",
       "    </tr>\n",
       "    <tr>\n",
       "      <th>2</th>\n",
       "      <td>3</td>\n",
       "      <td>0.292319</td>\n",
       "    </tr>\n",
       "    <tr>\n",
       "      <th>3</th>\n",
       "      <td>4</td>\n",
       "      <td>0.392318</td>\n",
       "    </tr>\n",
       "    <tr>\n",
       "      <th>4</th>\n",
       "      <td>5</td>\n",
       "      <td>0.492317</td>\n",
       "    </tr>\n",
       "    <tr>\n",
       "      <th>5</th>\n",
       "      <td>6</td>\n",
       "      <td>0.592316</td>\n",
       "    </tr>\n",
       "    <tr>\n",
       "      <th>6</th>\n",
       "      <td>7</td>\n",
       "      <td>0.692315</td>\n",
       "    </tr>\n",
       "    <tr>\n",
       "      <th>7</th>\n",
       "      <td>8</td>\n",
       "      <td>0.792314</td>\n",
       "    </tr>\n",
       "    <tr>\n",
       "      <th>8</th>\n",
       "      <td>9</td>\n",
       "      <td>0.892313</td>\n",
       "    </tr>\n",
       "    <tr>\n",
       "      <th>9</th>\n",
       "      <td>10</td>\n",
       "      <td>0.992312</td>\n",
       "    </tr>\n",
       "    <tr>\n",
       "      <th>10</th>\n",
       "      <td>11</td>\n",
       "      <td>1.007462</td>\n",
       "    </tr>\n",
       "  </tbody>\n",
       "</table>\n",
       "</div>"
      ],
      "text/plain": [
       "    glucose uptake rate (mmol/gDCW/h)  iSH1474 growth simulation\n",
       "0                                   1                   0.092321\n",
       "1                                   2                   0.192320\n",
       "2                                   3                   0.292319\n",
       "3                                   4                   0.392318\n",
       "4                                   5                   0.492317\n",
       "5                                   6                   0.592316\n",
       "6                                   7                   0.692315\n",
       "7                                   8                   0.792314\n",
       "8                                   9                   0.892313\n",
       "9                                  10                   0.992312\n",
       "10                                 11                   1.007462"
      ]
     },
     "metadata": {},
     "output_type": "display_data"
    }
   ],
   "source": [
    "# For generation of Figure S1 in the reference paper\n",
    "import pandas as pd\n",
    "\n",
    "glucose = [1,2,3,4,5,6,7,8,9,10,11]\n",
    "result = []\n",
    "\n",
    "print('iSH1474 growth simulation values\\n')\n",
    "\n",
    "for glc in glucose:\n",
    "    with model:\n",
    "        model.reactions.get_by_id(\"EX_glc__D_e\").lower_bound = -glc\n",
    "        result.append(model.slim_optimize())\n",
    "        \n",
    "display(pd.DataFrame({'glucose uptake rate (mmol/gDCW/h)':glucose,'iSH1474 growth simulation':result}))"
   ]
  }
 ],
 "metadata": {
  "kernelspec": {
   "display_name": "Python 3 (ipykernel)",
   "language": "python",
   "name": "python3"
  },
  "language_info": {
   "codemirror_mode": {
    "name": "ipython",
    "version": 3
   },
   "file_extension": ".py",
   "mimetype": "text/x-python",
   "name": "python",
   "nbconvert_exporter": "python",
   "pygments_lexer": "ipython3",
   "version": "3.10.9"
  }
 },
 "nbformat": 4,
 "nbformat_minor": 5
}
