{
 "cells": [
  {
   "cell_type": "markdown",
   "id": "02fe2d2c",
   "metadata": {},
   "source": [
    "## Validation of model predictions for carbon utilization"
   ]
  },
  {
   "cell_type": "code",
   "execution_count": 1,
   "id": "46b56c45",
   "metadata": {},
   "outputs": [],
   "source": [
    "import cobra\n",
    "import pandas as pd\n",
    "import os\n",
    "\n",
    "pd.set_option('display.max_rows', None)\n",
    "\n",
    "# Call the metabolic models\n",
    "s12 = cobra.io.read_sbml_model('iSH1474.xml')\n",
    "kt2440 = cobra.io.read_sbml_model('iJN1463.xml')\n",
    "\n",
    "# Open the PM experimental result file\n",
    "pm = pd.read_excel('PM_result.xlsx')"
   ]
  },
  {
   "cell_type": "code",
   "execution_count": 2,
   "id": "3dae020d",
   "metadata": {},
   "outputs": [],
   "source": [
    "# Function definition\n",
    "\n",
    "# Function that compares experimental and simulation results\n",
    "def check (x, y):\n",
    "    if x == '+':\n",
    "        if y == '+':\n",
    "            ans = 'TP'\n",
    "        else:\n",
    "            ans = 'FN'\n",
    "    else:\n",
    "        if y == '+':\n",
    "            ans = 'FP'\n",
    "        else:\n",
    "            ans = 'TN'\n",
    "            \n",
    "    return ans\n",
    "\n",
    "# Function that simulate the growh of model in each sole carbon source\n",
    "def growth_simulation (model):\n",
    "\n",
    "    metabolites = pm['metabolites id'].values.tolist()\n",
    "    exp_result = pm['s12 growth'].values.tolist()\n",
    "    \n",
    "    simulation_result = []\n",
    "    min_growth = model.slim_optimize()*0.05\n",
    "\n",
    "    for i in range(len(metabolites)):\n",
    "        m = metabolites[i]\n",
    "        x = exp_result[i]\n",
    "        \n",
    "        if m == 'x':\n",
    "            y = '-'\n",
    "        else:\n",
    "            with model:\n",
    "                m_id = 'EX_'+m+'_e'\n",
    "            \n",
    "                model.reactions.get_by_id('EX_glc__D_e').bounds = (0,0)\n",
    "                \n",
    "                try:\n",
    "                    model.reactions.get_by_id(m_id).lower_bound = -6\n",
    "            \n",
    "                    simulation_growth = model.slim_optimize()\n",
    "            \n",
    "                    if simulation_growth > min_growth:\n",
    "                        y = '+'\n",
    "                    else:\n",
    "                        y = '-'\n",
    "                    \n",
    "                except:\n",
    "                    y = '-'\n",
    "                    \n",
    "                    \n",
    "        simulation_result.append(check (x, y))\n",
    "        \n",
    "                    \n",
    "    return simulation_result"
   ]
  },
  {
   "cell_type": "code",
   "execution_count": 3,
   "id": "b9efaad4",
   "metadata": {},
   "outputs": [],
   "source": [
    "for gem in ['s12','kt2440']:\n",
    "    model = globals()[gem]\n",
    "    simulation_result = growth_simulation(model)\n",
    "    pm[gem+' simulation result'] = simulation_result"
   ]
  },
  {
   "cell_type": "code",
   "execution_count": 4,
   "id": "afdfe1b8",
   "metadata": {},
   "outputs": [
    {
     "data": {
      "text/html": [
       "<div>\n",
       "<style scoped>\n",
       "    .dataframe tbody tr th:only-of-type {\n",
       "        vertical-align: middle;\n",
       "    }\n",
       "\n",
       "    .dataframe tbody tr th {\n",
       "        vertical-align: top;\n",
       "    }\n",
       "\n",
       "    .dataframe thead th {\n",
       "        text-align: right;\n",
       "    }\n",
       "</style>\n",
       "<table border=\"1\" class=\"dataframe\">\n",
       "  <thead>\n",
       "    <tr style=\"text-align: right;\">\n",
       "      <th></th>\n",
       "      <th>TP</th>\n",
       "      <th>TN</th>\n",
       "      <th>FP</th>\n",
       "      <th>FN</th>\n",
       "    </tr>\n",
       "  </thead>\n",
       "  <tbody>\n",
       "    <tr>\n",
       "      <th>iSH1474 (S12)</th>\n",
       "      <td>56</td>\n",
       "      <td>142</td>\n",
       "      <td>0</td>\n",
       "      <td>5</td>\n",
       "    </tr>\n",
       "    <tr>\n",
       "      <th>iJN1462 (KT2440)</th>\n",
       "      <td>50</td>\n",
       "      <td>129</td>\n",
       "      <td>13</td>\n",
       "      <td>11</td>\n",
       "    </tr>\n",
       "  </tbody>\n",
       "</table>\n",
       "</div>"
      ],
      "text/plain": [
       "                  TP   TN  FP  FN\n",
       "iSH1474 (S12)     56  142   0   5\n",
       "iJN1462 (KT2440)  50  129  13  11"
      ]
     },
     "metadata": {},
     "output_type": "display_data"
    },
    {
     "name": "stdout",
     "output_type": "stream",
     "text": [
      "iSH1474 accuracy: 97.53694581280789\n",
      "iJN1462 accuracy: 88.17733990147784\n"
     ]
    }
   ],
   "source": [
    "# To generate Figure 4A in the reference paper\n",
    "\n",
    "data = {'TP':[],'TN':[],'FP':[],'FN':[]}\n",
    "\n",
    "data['TP'].append(pm['s12 simulation result'].to_list().count('TP'))\n",
    "data['TN'].append(pm['s12 simulation result'].to_list().count('TN'))\n",
    "data['FP'].append(pm['s12 simulation result'].to_list().count('FP'))\n",
    "data['FN'].append(pm['s12 simulation result'].to_list().count('FN'))\n",
    "\n",
    "data['TP'].append(pm['kt2440 simulation result'].to_list().count('TP'))\n",
    "data['TN'].append(pm['kt2440 simulation result'].to_list().count('TN'))\n",
    "data['FP'].append(pm['kt2440 simulation result'].to_list().count('FP'))\n",
    "data['FN'].append(pm['kt2440 simulation result'].to_list().count('FN'))\n",
    "\n",
    "display(pd.DataFrame(data,index=['iSH1474 (S12)','iJN1462 (KT2440)']))\n",
    "print('iSH1474 accuracy:',(pm[['s12 simulation result']].value_counts().TP + pm[['s12 simulation result']].value_counts().TN)/203 * 100)\n",
    "print('iJN1462 accuracy:',(pm[['kt2440 simulation result']].value_counts().TP + pm[['kt2440 simulation result']].value_counts().TN)/203 * 100)"
   ]
  }
 ],
 "metadata": {
  "kernelspec": {
   "display_name": "Python 3 (ipykernel)",
   "language": "python",
   "name": "python3"
  },
  "language_info": {
   "codemirror_mode": {
    "name": "ipython",
    "version": 3
   },
   "file_extension": ".py",
   "mimetype": "text/x-python",
   "name": "python",
   "nbconvert_exporter": "python",
   "pygments_lexer": "ipython3",
   "version": "3.10.9"
  }
 },
 "nbformat": 4,
 "nbformat_minor": 5
}
