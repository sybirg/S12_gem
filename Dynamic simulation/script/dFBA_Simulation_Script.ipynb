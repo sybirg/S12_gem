{
 "cells": [
  {
   "cell_type": "markdown",
   "id": "abcabee8",
   "metadata": {},
   "source": [
    "# dFBA_simulation\n",
    "- dFBA: dynamic flux balance analysis\n",
    "\n",
    "**1. Dependency**\n",
    "- MATLAB v9.6 (R2019a)\n",
    "- The COnstraint-Based Reconstruction and Analysis Toolbox v3.0.4"
   ]
  },
  {
   "cell_type": "code",
   "execution_count": null,
   "id": "f6236641",
   "metadata": {},
   "outputs": [],
   "source": [
    "% Set solver ('GLPK')\n",
    "solverOK = changeCobraSolver('glpk')"
   ]
  },
  {
   "cell_type": "code",
   "execution_count": null,
   "id": "4e7fc1e4",
   "metadata": {},
   "outputs": [],
   "source": [
    "% Load GEMs\n",
    "model = readCbModel('../input/iSH1474.xml','fileType','SBML')"
   ]
  },
  {
   "cell_type": "code",
   "execution_count": null,
   "id": "81d93cb6",
   "metadata": {},
   "outputs": [],
   "source": [
    "% Set glucose uptake rate to 6.5 mmol/gDCW/h\n",
    "model = changeRxnBounds(model,'EX_glc__D_e',-6.5,'l')"
   ]
  },
  {
   "cell_type": "code",
   "execution_count": null,
   "id": "56b6aa44",
   "metadata": {},
   "outputs": [],
   "source": [
    "% run dFBA\n",
    "% See link for details (https://opencobra.github.io/cobratoolbox/latest/modules/analysis/dynamicFBA/index.html)\n",
    "[concentrationMatrix, excRxnNames, timeVec, biomassVec] = dynamicFBA(model, {'EX_glc__D_e'}, [10], 0.01, 0.1, 1000, {'EX_glc__D_e', 'EX_ac_e'})\n",
    "glucose_conc = concentrationMatrix (9, :)\n",
    "[numRows,numCols] = size(glucose_conc)\n",
    "glucose_conc(numCols) = 0.0000\n",
    "dfba_matrix = [timeVec;glucose_conc; biomassVec]\n",
    "dfba_matrix = dfba_matrix'"
   ]
  },
  {
   "cell_type": "code",
   "execution_count": null,
   "id": "7c1161c1",
   "metadata": {
    "scrolled": false
   },
   "outputs": [],
   "source": [
    "% output dFBA result\n",
    "VarNames = {'Time_h', 'Glucose_conc_mM', 'Biomass_gL'};\n",
    "T = table(dfba_matrix(:,1),dfba_matrix(:,2),dfba_matrix(:,3), 'VariableNames',VarNames)\n",
    "writetable(T,'../output/dFBA_result.txt','Delimiter','\\t')"
   ]
  }
 ],
 "metadata": {
  "kernelspec": {
   "display_name": "Matlab",
   "language": "matlab",
   "name": "matlab"
  },
  "language_info": {
   "codemirror_mode": "octave",
   "file_extension": ".m",
   "help_links": [
    {
     "text": "MetaKernel Magics",
     "url": "https://metakernel.readthedocs.io/en/latest/source/README.html"
    }
   ],
   "mimetype": "text/x-octave",
   "name": "matlab",
   "version": "0.17.1"
  }
 },
 "nbformat": 4,
 "nbformat_minor": 5
}
