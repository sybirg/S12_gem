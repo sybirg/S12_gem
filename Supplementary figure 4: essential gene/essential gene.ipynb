{
 "cells": [
  {
   "cell_type": "code",
   "execution_count": null,
   "id": "e674441e",
   "metadata": {},
   "outputs": [],
   "source": [
    "import cobra\n",
    "import pickle\n",
    "import pandas as pd\n",
    "\n",
    "pd.set_option('display.max_rows', None)\n",
    "\n",
    "s12 = cobra.io.read_sbml_model('~\\\\input\\\\iSH1474.xml')"
   ]
  },
  {
   "cell_type": "code",
   "execution_count": null,
   "id": "92e1f2d3",
   "metadata": {},
   "outputs": [],
   "source": [
    "model = s12.copy()\n",
    "\n",
    "def _gene_deletion(model,gene_id):\n",
    "\n",
    "    with model:\n",
    "        model.genes.get_by_id(gene_id).knock_out()\n",
    "        growth = model.slim_optimize()\n",
    "    return growth\n",
    "\n",
    "def single_gene_deletion (model):\n",
    "    n = len(model.genes)\n",
    "    \n",
    "    result = []\n",
    "    \n",
    "    for i in range(n):\n",
    "        gene_id = model.genes[i].id\n",
    "        growth = _gene_deletion(model,gene_id)\n",
    "        result.append((gene_id,growth))\n",
    "        \n",
    "    df = pd.DataFrame(result, columns=['gene_id', 'growth'])\n",
    "    \n",
    "    return df\n",
    "\n",
    "df = single_gene_deletion(model)\n",
    "essential = df[df['growth'] <= draft.optimize('maximize').objective_value*0.05]\n",
    "print(len(essential))"
   ]
  },
  {
   "cell_type": "code",
   "execution_count": null,
   "id": "57e99eca",
   "metadata": {},
   "outputs": [],
   "source": [
    "essential"
   ]
  }
 ],
 "metadata": {
  "kernelspec": {
   "display_name": "Python 3 (ipykernel)",
   "language": "python",
   "name": "python3"
  },
  "language_info": {
   "codemirror_mode": {
    "name": "ipython",
    "version": 3
   },
   "file_extension": ".py",
   "mimetype": "text/x-python",
   "name": "python",
   "nbconvert_exporter": "python",
   "pygments_lexer": "ipython3",
   "version": "3.10.9"
  }
 },
 "nbformat": 4,
 "nbformat_minor": 5
}
